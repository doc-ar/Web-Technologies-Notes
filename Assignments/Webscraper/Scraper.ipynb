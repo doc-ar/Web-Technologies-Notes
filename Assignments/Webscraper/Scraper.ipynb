{
 "cells": [
  {
   "cell_type": "code",
   "execution_count": 67,
   "id": "31b90ac1-e8c3-4e55-91e6-699deb179e81",
   "metadata": {},
   "outputs": [],
   "source": [
    "import time\n",
    "import requests\n",
    "import re\n",
    "from bs4 import BeautifulSoup\n",
    "import pandas as pd"
   ]
  },
  {
   "cell_type": "code",
   "execution_count": 68,
   "id": "803b0b49-5101-43d4-bf0f-1a3690c12351",
   "metadata": {},
   "outputs": [],
   "source": [
    "product_list = []\n",
    "headers = {'User-Agent': 'Mozilla/5.0 (Windows NT 10.0; Win64; x64) AppleWebKit/537.36 (KHTML, like Gecko) Chrome/115.0.0.0 Safari/537.36'}\n",
    "response = requests.get('https://saamaan.pk/collections/accessories-and-gadgets', headers=headers)\n",
    "soup = BeautifulSoup(response.content, \"html.parser\")"
   ]
  },
  {
   "cell_type": "code",
   "execution_count": 82,
   "id": "700da768-adf3-42ee-aa33-e2ab8f71ed70",
   "metadata": {},
   "outputs": [
    {
     "name": "stdout",
     "output_type": "stream",
     "text": [
      "\n",
      "Sale priceRs.3,999.00\n",
      "{'URL': 'https://saamaan.pk/products/audionic-airbud-4', 'Title': 'Audionic Airbud 4 with one year official brand warranty', 'Price': 'Rs.3,999.00', 'Image': 'https://saamaan.pk/cdn/shop/products/Untitleddesign_b5316c67-60b3-4cbb-bbea-7cbc4fa8b799.png?v=1627397064&width=500'}\n",
      "\n",
      "Sale priceRs.4,699.00\n",
      "{'URL': 'https://saamaan.pk/products/oppo-enco-w11-truly-wireless-earbuds', 'Title': 'Oppo Enco W11 Truly Wireless Earbuds', 'Price': 'Rs.4,699.00', 'Image': 'https://saamaan.pk/cdn/shop/products/Untitleddesign_b7abe348-f27e-4332-9cec-217d0695288c.png?v=1624612326&width=500'}\n",
      "\n",
      "Sale priceFrom Rs.5,399.00\n",
      "{'URL': 'https://saamaan.pk/products/xiaomi-mi-imlab-kw66-smart-watch', 'Title': 'Xiaomi Smart Watch 3D Curved Mi IMILAB   with official 1 Month replacement warranty.', 'Price': 'From Rs.5,399.00', 'Image': 'https://saamaan.pk/cdn/shop/products/8_2455bbcb-6916-4b00-aca5-25323ca6e806.jpg?v=1602764720&width=600'}\n",
      "\n",
      "Sale priceRs.1,499.00\n",
      "{'URL': 'https://saamaan.pk/products/realme-buds-2', 'Title': 'realme Buds 2 with Official 6 Month Brand Warranty', 'Price': 'Rs.1,499.00', 'Image': 'https://saamaan.pk/cdn/shop/products/51-nePvE2fL._SL1500_-150x150.jpg?v=1584599089&width=150'}\n",
      "\n",
      "Sale priceFrom Rs.1,499.00\n",
      "{'URL': 'https://saamaan.pk/products/beme-ripper-gaming-earphones-3', 'Title': 'Beme Ripper Gaming Earphones', 'Price': 'From Rs.1,499.00', 'Image': 'https://saamaan.pk/cdn/shop/files/RIPPERIMG3.jpg?v=1686401700&width=1500'}\n",
      "\n",
      "Sale priceRs.4,699.00\n",
      "{'URL': 'https://saamaan.pk/products/infinix-earbuds-xe27', 'Title': 'Infinix FreePods 2 - XE27', 'Price': 'Rs.4,699.00', 'Image': 'https://saamaan.pk/cdn/shop/products/20220827-115728.png?v=1663586570&width=800'}\n",
      "\n",
      "Sale priceRs.7,999.00\n",
      "{'URL': 'https://saamaan.pk/products/beme-earbuds-pro-2', 'Title': 'BeMe Buds Pro 2', 'Price': 'Rs.7,999.00', 'Image': 'https://saamaan.pk/cdn/shop/products/BEMEEarbuds.jpg?v=1669464737&width=1080'}\n",
      "\n",
      "Sale priceRs.7,999.00\n",
      "{'URL': 'https://saamaan.pk/products/x8-ultra-smartwatch-49mm-with-bluetooth-calling', 'Title': 'X8 Ultra Smartwatch 49MM with Bluetooth Calling', 'Price': 'Rs.7,999.00', 'Image': 'https://saamaan.pk/cdn/shop/products/W_OX8Ultra.jpg?v=1668612863&width=500'}\n",
      "\n",
      "Sale priceRs.5,599.00\n",
      "{'URL': 'https://saamaan.pk/products/blulory-glifo-smart-watch-series-7', 'Title': 'Blulory Glifo Smart Watch series 7', 'Price': 'Rs.5,599.00', 'Image': 'https://saamaan.pk/cdn/shop/products/Blulory-Glifo2-pro-black.jpg?v=1666446767&width=500'}\n",
      "\n",
      "Sale priceRs.2,450.00\n",
      "{'URL': 'https://saamaan.pk/products/audionic-powerbank-t-10-10000-mah-high-density-battery-same-as-tesla', 'Title': 'Audionic Powerbank T-10 (10000 mAh) High-Density battery same as  Tesla', 'Price': 'Rs.2,450.00', 'Image': 'https://saamaan.pk/cdn/shop/products/Untitleddesign_74.png?v=1630588754&width=500'}\n",
      "\n",
      "Sale priceRs.4,590.00\n",
      "{'URL': 'https://saamaan.pk/products/haylou-solar-ls05-smart-watch-global-version', 'Title': 'Haylou Solar LS05 Smart Watch-Global Version', 'Price': 'Rs.4,590.00', 'Image': 'https://saamaan.pk/cdn/shop/products/Screenshot2020-07-06at12.51.07PM.png?v=1594230890&width=726'}\n",
      "\n",
      "Sale priceRs.2,899.00\n",
      "{'URL': 'https://saamaan.pk/products/audionic-airbud-2-max', 'Title': 'Audionic Airbud 2 Max', 'Price': 'Rs.2,899.00', 'Image': 'https://saamaan.pk/cdn/shop/products/2_4eeb81b3-44ab-4a03-9256-5395665baa94.png?v=1640075987&width=500'}\n",
      "\n",
      "Sale priceRs.4,999.00\n",
      "{'URL': 'https://saamaan.pk/products/haino-teko-air-p3-earbuds', 'Title': 'Haino Teko Air P3 Earbuds', 'Price': 'Rs.4,999.00', 'Image': 'https://saamaan.pk/cdn/shop/products/haino-teko-royal-edition-earbuds-white-_anc-p3-pro___42611_zoom.jpg?v=1660413256&width=500'}\n",
      "\n",
      "Sale priceRs.3,999.00\n",
      "{'URL': 'https://saamaan.pk/products/realme-band', 'Title': 'realme Band with Official 12 Month Brand Warranty', 'Price': 'Rs.3,999.00', 'Image': 'https://saamaan.pk/cdn/shop/products/61-_zVZL4LL._SL1500.jpg?v=1591790602&width=1500'}\n",
      "\n",
      "Sale priceRs.1,499.00\n",
      "{'URL': 'https://saamaan.pk/products/lenovo-he05-neckband-bluetooth', 'Title': 'Lenovo HE05 Neckband Bluetooth', 'Price': 'Rs.1,499.00', 'Image': 'https://saamaan.pk/cdn/shop/products/d048df76-a94e-4cc4-92b8-15ab3e8d66de_540x_9896801c-2a8a-435c-99af-b6b3ee8ddc53.jpg?v=1680521232&width=540'}\n",
      "\n",
      "Sale priceRs.8,999.00\n",
      "{'URL': 'https://saamaan.pk/products/xiaomi-mibro-lite-smart-watch', 'Title': 'Xiaomi MiBro Lite Smart Watch', 'Price': 'Rs.8,999.00', 'Image': 'https://saamaan.pk/cdn/shop/products/1_d783d76c-3e51-45eb-b0c6-23de7a778ec0.png?v=1636964470&width=500'}\n",
      "\n",
      "Sale priceFrom Rs.6,399.00\n",
      "{'URL': 'https://saamaan.pk/products/imilab-smart-watch-w12', 'Title': 'IMILAB W12 SMART WATCH with official 1 Month replacement warranty.', 'Price': 'From Rs.6,399.00', 'Image': 'https://saamaan.pk/cdn/shop/products/w11-33-2.jpg?v=1624621155&width=800'}\n",
      "\n",
      "Sale priceFrom Rs.7,999.00\n",
      "{'URL': 'https://saamaan.pk/products/beme-explorer-10000mah-transparent-powerbank', 'Title': 'BEME Explorer 22.5W 10000mAH PowerBank', 'Price': 'From Rs.7,999.00', 'Image': 'https://saamaan.pk/cdn/shop/products/bemeexplorerpowerbank2.jpg?v=1678459055&width=600'}\n",
      "\n",
      "Sale priceRs.599.00\n",
      "{'URL': 'https://saamaan.pk/products/gionee-handsfree', 'Title': 'Gionee Handsfree (Original)', 'Price': 'Rs.599.00', 'Image': 'https://saamaan.pk/cdn/shop/products/al_medina_store_gionee_earphones_with_microphone_white.jpg?v=1584598951&width=1200'}\n",
      "\n",
      "Sale priceRs.3,999.00\n",
      "{'URL': 'https://saamaan.pk/products/realme-buds-wireless-official-12-months-warranty', 'Title': 'realme Buds Wireless Official 12 Month Brand Warranty', 'Price': 'Rs.3,999.00', 'Image': 'https://saamaan.pk/cdn/shop/products/OIP.jpg?v=1619005592&width=474'}\n",
      "\n",
      "Sale priceRs.4,999.00\n",
      "{'URL': 'https://saamaan.pk/products/haylou-ls02-1-4-inch-large-hd-screen-smart-watch-bluetooth-5-0-long-standby-wristwatch-global-version', 'Title': 'Haylou LS02 1.4 inch Large HD Screen Smart Watch Bluetooth 5.0 Long Standby Wristwatch Global Version with Official 3 Month Replacement Warranty', 'Price': 'Rs.4,999.00', 'Image': 'https://saamaan.pk/cdn/shop/products/41mGxBpVZXL._AC.jpg?v=1597562671&width=332'}\n",
      "\n",
      "Sale priceRs.4,999.00\n",
      "{'URL': 'https://saamaan.pk/products/orafit-mega-smart-watch', 'Title': 'Orafit Mega Smart Watch with 15 Days Warranty', 'Price': 'Rs.4,999.00', 'Image': 'https://saamaan.pk/cdn/shop/products/mega.jpg?v=1664963329&width=500'}\n",
      "\n",
      "Sale priceRs.5,999.00\n",
      "{'URL': 'https://saamaan.pk/products/kieslect-smart-watch-k10', 'Title': 'Kieslect Smart Watch K10 1 month warranty', 'Price': 'Rs.5,999.00', 'Image': 'https://saamaan.pk/cdn/shop/products/2_23600b93-9b66-4141-85a2-d8fd20e3ca36.png?v=1643361464&width=500'}\n",
      "\n",
      "Sale priceRs.7,999.00\n",
      "{'URL': 'https://saamaan.pk/products/realme-buds-air-neo', 'Title': 'realme Buds Air Neo White Official 12 Month Brand Warranty', 'Price': 'Rs.7,999.00', 'Image': 'https://saamaan.pk/cdn/shop/products/008.png?v=1618654558&width=2000'}\n"
     ]
    }
   ],
   "source": [
    "items = soup.select('div.product-list.product-list--collection.product-list--with-sidebar > div.product-item.product-item--vertical')\n",
    "for item in items:\n",
    "    product = {}\n",
    "    price_text = item.select_one('div.product-item__info > div.product-item__info-inner > div.product-item__price-list > span').text\n",
    "    product['URL'] = 'https://saamaan.pk' + item.select_one('a.product-item__image-wrapper.product-item__image-wrapper--with-secondary')['href']\n",
    "    product['Title'] = item.select_one('div.product-item__info > div.product-item__info-inner > a.product-item__title').text\n",
    "    product['Price'] = re.sub('\\n*Sale\\sprice', '', price_text)\n",
    "    product['Image'] = 'https:' + item.select_one('a.product-item__image-wrapper.product-item__image-wrapper--with-secondary > div.aspect-ratio > img')['src']\n",
    "    product_list.append(product)"
   ]
  },
  {
   "cell_type": "code",
   "execution_count": 70,
   "id": "865caec1",
   "metadata": {},
   "outputs": [],
   "source": [
    "df = pd.DataFrame.from_dict(product_list)\n",
    "df.to_excel('Products.xlsx')"
   ]
  },
  {
   "cell_type": "markdown",
   "id": "4f7164a0",
   "metadata": {},
   "source": [
    "asdas"
   ]
  }
 ],
 "metadata": {
  "kernelspec": {
   "display_name": "Python 3 (ipykernel)",
   "language": "python",
   "name": "python3"
  },
  "language_info": {
   "codemirror_mode": {
    "name": "ipython",
    "version": 3
   },
   "file_extension": ".py",
   "mimetype": "text/x-python",
   "name": "python",
   "nbconvert_exporter": "python",
   "pygments_lexer": "ipython3",
   "version": "3.11.5"
  }
 },
 "nbformat": 4,
 "nbformat_minor": 5
}
