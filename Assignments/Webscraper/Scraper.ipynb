{
 "cells": [
  {
   "cell_type": "code",
   "execution_count": 1,
   "id": "31b90ac1-e8c3-4e55-91e6-699deb179e81",
   "metadata": {},
   "outputs": [],
   "source": [
    "import requests\n",
    "import re\n",
    "from bs4 import BeautifulSoup\n",
    "import pandas as pd"
   ]
  },
  {
   "cell_type": "code",
   "execution_count": 2,
   "id": "803b0b49-5101-43d4-bf0f-1a3690c12351",
   "metadata": {},
   "outputs": [],
   "source": [
    "product_list = []\n",
    "headers = {'User-Agent': 'Mozilla/5.0 (Windows NT 10.0; Win64; x64) AppleWebKit/537.36 (KHTML, like Gecko) Chrome/115.0.0.0 Safari/537.36'}\n",
    "response = requests.get('https://saamaan.pk/collections/accessories-and-gadgets', headers=headers)\n",
    "soup = BeautifulSoup(response.content, \"html.parser\")"
   ]
  },
  {
   "cell_type": "code",
   "execution_count": 3,
   "id": "700da768-adf3-42ee-aa33-e2ab8f71ed70",
   "metadata": {},
   "outputs": [],
   "source": [
    "items = soup.select('div.product-list.product-list--collection.product-list--with-sidebar > div.product-item.product-item--vertical')\n",
    "for item in items:\n",
    "    product = {}\n",
    "    price_text = item.select_one('div.product-item__info > div.product-item__info-inner > div.product-item__price-list > span').text\n",
    "    product['URL'] = 'https://saamaan.pk' + item.select_one('a.product-item__image-wrapper.product-item__image-wrapper--with-secondary')['href']\n",
    "    product['Title'] = item.select_one('div.product-item__info > div.product-item__info-inner > a.product-item__title').text\n",
    "    product['Price'] = re.search('Rs\\..*', price_text)[0]\n",
    "    product['Image'] = 'https:' + item.select_one('a.product-item__image-wrapper.product-item__image-wrapper--with-secondary > div.aspect-ratio > img')['src']\n",
    "    product_list.append(product)"
   ]
  },
  {
   "cell_type": "code",
   "execution_count": 4,
   "id": "865caec1",
   "metadata": {},
   "outputs": [],
   "source": [
    "df = pd.DataFrame.from_dict(product_list)\n",
    "df.to_excel('Products.xlsx')"
   ]
  }
 ],
 "metadata": {
  "kernelspec": {
   "display_name": "Python 3 (ipykernel)",
   "language": "python",
   "name": "python3"
  },
  "language_info": {
   "codemirror_mode": {
    "name": "ipython",
    "version": 3
   },
   "file_extension": ".py",
   "mimetype": "text/x-python",
   "name": "python",
   "nbconvert_exporter": "python",
   "pygments_lexer": "ipython3",
   "version": "3.11.5"
  }
 },
 "nbformat": 4,
 "nbformat_minor": 5
}
